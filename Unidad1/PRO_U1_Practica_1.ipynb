{
  "nbformat": 4,
  "nbformat_minor": 0,
  "metadata": {
    "colab": {
      "provenance": [],
      "authorship_tag": "ABX9TyPOA4XlU5Kj2OyZ9Sgvl+ef",
      "include_colab_link": true
    },
    "kernelspec": {
      "name": "python3",
      "display_name": "Python 3"
    },
    "language_info": {
      "name": "python"
    }
  },
  "cells": [
    {
      "cell_type": "markdown",
      "metadata": {
        "id": "view-in-github",
        "colab_type": "text"
      },
      "source": [
        "<a href=\"https://colab.research.google.com/github/24041180/Probabilidad-y-estadistica/blob/main/Unidad1/PRO_U1_Practica_1.ipynb\" target=\"_parent\"><img src=\"https://colab.research.google.com/assets/colab-badge.svg\" alt=\"Open In Colab\"/></a>"
      ]
    },
    {
      "cell_type": "markdown",
      "source": [
        "Probabilidad y estadistica\n",
        "Unidad 1\n",
        "Practica 1.  Estadística descriptiva básica e Histogramas\n",
        "Luis Angel Hernandez Cabral"
      ],
      "metadata": {
        "id": "QwgsRpuwn3oE"
      }
    },
    {
      "cell_type": "code",
      "execution_count": 3,
      "metadata": {
        "colab": {
          "base_uri": "https://localhost:8080/"
        },
        "id": "kYWH_ohKUCcN",
        "outputId": "5308ee98-d2ed-479b-eac2-865b04a09b7f"
      },
      "outputs": [
        {
          "output_type": "stream",
          "name": "stdout",
          "text": [
            "[70, 70, 65, 90, 100, 95, 45, 80, 73, 20, 100, 96]\n"
          ]
        },
        {
          "output_type": "execute_result",
          "data": {
            "text/plain": [
              "list"
            ]
          },
          "metadata": {},
          "execution_count": 3
        }
      ],
      "source": [
        "from statistics import *\n",
        "grupoa=[70,70,65,90,100,95,45,80,73,20,100,96]\n",
        "print(grupoa)\n",
        "type(grupoa)"
      ]
    },
    {
      "cell_type": "code",
      "source": [
        "promedio=sum(grupoa) / len(grupoa) #len es el numero de elementos en el array\n",
        "print(promedio)"
      ],
      "metadata": {
        "colab": {
          "base_uri": "https://localhost:8080/"
        },
        "id": "4nLtIUZMVE0j",
        "outputId": "24270014-15f6-44f6-c8e1-451e97159282"
      },
      "execution_count": 4,
      "outputs": [
        {
          "output_type": "stream",
          "name": "stdout",
          "text": [
            "75.33333333333333\n"
          ]
        }
      ]
    },
    {
      "cell_type": "code",
      "source": [
        "promedio2=mean(grupoa)\n",
        "print(promedio2)"
      ],
      "metadata": {
        "colab": {
          "base_uri": "https://localhost:8080/"
        },
        "id": "rYyrK6pLV0KH",
        "outputId": "16e2e845-5b7a-451f-8745-860679b842fc"
      },
      "execution_count": 5,
      "outputs": [
        {
          "output_type": "stream",
          "name": "stdout",
          "text": [
            "75.33333333333333\n"
          ]
        }
      ]
    },
    {
      "cell_type": "code",
      "source": [
        "\n",
        "# Determinar el valor de la mediana con el funcion median\n",
        "mediana= median(grupoa)\n",
        "print(mediana)"
      ],
      "metadata": {
        "id": "aRx4in8sWkxj",
        "colab": {
          "base_uri": "https://localhost:8080/"
        },
        "outputId": "6ff13733-1f62-4702-92c2-2f702d0832e5"
      },
      "execution_count": 6,
      "outputs": [
        {
          "output_type": "stream",
          "name": "stdout",
          "text": [
            "76.5\n"
          ]
        }
      ]
    },
    {
      "cell_type": "code",
      "source": [
        "#Determinar el valor de la moda con la funcion mode\n",
        "moda= mode(grupoa)\n",
        "print(moda)\n",
        "#En caso de que exista mas de una moda usar multimode\n",
        "moda2= multimode(grupoa)\n",
        "print(moda2)"
      ],
      "metadata": {
        "colab": {
          "base_uri": "https://localhost:8080/"
        },
        "id": "of07RFvJXgGl",
        "outputId": "e5ad7417-734c-46bf-cafb-728f6750043c"
      },
      "execution_count": 7,
      "outputs": [
        {
          "output_type": "stream",
          "name": "stdout",
          "text": [
            "70\n",
            "[70, 100]\n"
          ]
        }
      ]
    },
    {
      "cell_type": "markdown",
      "source": [
        "Tiempo de 100 metros de un grupo de 12 alumnos"
      ],
      "metadata": {
        "id": "xgMnH3IaZSs3"
      }
    },
    {
      "cell_type": "code",
      "source": [
        "#Definimos una variable llamada tiempos100mts de tipo lista que contiene los timepos que tardaron\n",
        "#10 alumnos en correr los 100mts\n",
        "tiempos100mts= [15.10,17.20,14.69,13.27,22.15,18.71,20.65,15.1,17.20]\n",
        "print(tiempos100mts)"
      ],
      "metadata": {
        "colab": {
          "base_uri": "https://localhost:8080/"
        },
        "id": "khUYscZOZSIU",
        "outputId": "d2689c21-ba33-48ba-f153-67c0509a52f2"
      },
      "execution_count": 8,
      "outputs": [
        {
          "output_type": "stream",
          "name": "stdout",
          "text": [
            "[15.1, 17.2, 14.69, 13.27, 22.15, 18.71, 20.65, 15.1, 17.2]\n"
          ]
        }
      ]
    },
    {
      "cell_type": "code",
      "source": [
        "print(\"El tiempo promedio de los corredores es=>\" , mean(tiempos100mts))"
      ],
      "metadata": {
        "colab": {
          "base_uri": "https://localhost:8080/"
        },
        "collapsed": true,
        "id": "w8-_U6q6aAwf",
        "outputId": "ca62ab1d-2fdd-4a25-945e-67d5c45fe094"
      },
      "execution_count": 9,
      "outputs": [
        {
          "output_type": "stream",
          "name": "stdout",
          "text": [
            "El tiempo promedio de los corredores es=> 17.11888888888889\n"
          ]
        }
      ]
    },
    {
      "cell_type": "code",
      "source": [
        "mediana=median(tiempos100mts)\n",
        "print(\"La media de los tiempos de los corredores es=>\", mediana)"
      ],
      "metadata": {
        "colab": {
          "base_uri": "https://localhost:8080/"
        },
        "id": "xT1FrsYWasjM",
        "outputId": "59698b55-82c3-45df-e4c8-d90324a89dfa"
      },
      "execution_count": 10,
      "outputs": [
        {
          "output_type": "stream",
          "name": "stdout",
          "text": [
            "La media de los tiempos de los corredores es=> 17.2\n"
          ]
        }
      ]
    },
    {
      "cell_type": "code",
      "source": [
        "moda = mode(tiempos100mts)\n",
        "print(\"La moda de los tiempos de los corredores es=>\", moda)\n",
        "multimoda = multimode(tiempos100mts)\n",
        "print(\"La multimoda de los tiempos de los corredores es=>\", multimoda)"
      ],
      "metadata": {
        "colab": {
          "base_uri": "https://localhost:8080/"
        },
        "id": "LiNb85VJbOHm",
        "outputId": "306fea6c-367d-4693-f54d-51e7aec90a93"
      },
      "execution_count": 11,
      "outputs": [
        {
          "output_type": "stream",
          "name": "stdout",
          "text": [
            "La moda de los tiempos de los corredores es=> 15.1\n",
            "La multimoda de los tiempos de los corredores es=> [15.1, 17.2]\n"
          ]
        }
      ]
    },
    {
      "cell_type": "code",
      "source": [
        "#libreria para numeros aleatorios\n",
        "import random"
      ],
      "metadata": {
        "id": "yuP3Rx_hcS1w"
      },
      "execution_count": 12,
      "outputs": []
    },
    {
      "cell_type": "code",
      "source": [
        "fabrica1=[]\n",
        "for i in range(100):\n",
        "    numero_aleatorio= round(random.uniform(50,100), 2)\n",
        "    fabrica1.append(numero_aleatorio)\n",
        "print(fabrica1)\n"
      ],
      "metadata": {
        "colab": {
          "base_uri": "https://localhost:8080/"
        },
        "id": "ax_9HV5scfCU",
        "outputId": "9fe885d1-8e40-43d7-a05f-1a420774da07"
      },
      "execution_count": 13,
      "outputs": [
        {
          "output_type": "stream",
          "name": "stdout",
          "text": [
            "[94.95, 62.76, 66.33, 70.93, 68.38, 83.0, 63.92, 77.8, 67.73, 95.04, 91.8, 83.45, 87.58, 87.13, 60.43, 70.92, 92.85, 60.23, 68.49, 78.93, 80.03, 94.0, 88.78, 71.37, 93.36, 81.13, 81.93, 88.93, 91.14, 57.58, 80.46, 57.37, 50.0, 63.99, 58.42, 72.92, 97.39, 53.89, 60.31, 76.45, 56.88, 52.64, 76.33, 89.89, 82.18, 50.16, 90.66, 50.94, 82.65, 59.71, 51.66, 84.86, 55.71, 54.93, 73.29, 55.15, 78.82, 97.03, 72.47, 73.06, 86.94, 67.64, 57.0, 82.83, 86.74, 88.9, 63.51, 84.72, 62.68, 66.88, 56.72, 54.7, 53.03, 65.37, 56.77, 99.43, 63.13, 56.56, 50.77, 83.02, 81.27, 52.32, 58.61, 86.03, 74.85, 59.15, 76.81, 55.97, 53.36, 79.56, 91.52, 58.25, 74.05, 93.72, 77.84, 76.49, 50.41, 91.82, 95.23, 54.1]\n"
          ]
        }
      ]
    },
    {
      "cell_type": "code",
      "source": [
        "fabrica2=[]\n",
        "for i in range(100):\n",
        "    numero_aleatorio2= round(random.uniform(50,100), 2)\n",
        "    fabrica2.append(numero_aleatorio2)\n",
        "print(fabrica2)\n"
      ],
      "metadata": {
        "colab": {
          "base_uri": "https://localhost:8080/"
        },
        "id": "T7q0r4_0d6oA",
        "outputId": "aa5fe389-4f56-43af-f379-63fee58cea99"
      },
      "execution_count": 14,
      "outputs": [
        {
          "output_type": "stream",
          "name": "stdout",
          "text": [
            "[77.42, 70.17, 62.42, 84.95, 83.55, 63.02, 52.34, 99.53, 50.34, 76.97, 54.01, 88.44, 60.19, 96.13, 92.64, 71.5, 80.82, 67.83, 58.67, 86.07, 51.49, 81.26, 76.75, 70.26, 98.86, 56.97, 69.02, 52.81, 91.9, 67.24, 75.27, 91.5, 73.65, 85.35, 53.27, 91.86, 98.03, 55.21, 97.77, 80.45, 55.36, 71.69, 72.52, 85.5, 74.64, 53.82, 76.37, 78.46, 94.76, 66.5, 56.5, 61.27, 84.99, 55.78, 95.89, 62.12, 60.47, 50.23, 50.5, 61.63, 51.12, 97.0, 97.52, 93.28, 84.95, 75.75, 81.16, 78.11, 63.51, 50.61, 74.3, 53.14, 71.82, 72.71, 81.85, 70.4, 80.1, 94.81, 62.02, 82.61, 67.74, 98.47, 82.3, 93.3, 85.77, 97.64, 51.74, 98.6, 94.01, 69.68, 77.53, 78.76, 83.79, 64.13, 95.9, 71.76, 99.7, 83.22, 83.05, 59.64]\n"
          ]
        }
      ]
    },
    {
      "cell_type": "code",
      "source": [
        "import matplotlib.pyplot as plt"
      ],
      "metadata": {
        "id": "v0FVjp8meS6G"
      },
      "execution_count": 15,
      "outputs": []
    },
    {
      "cell_type": "code",
      "source": [
        "plt.hist(fabrica1)\n",
        "plt.title(\"produccion diaria de la fabrica 1\")"
      ],
      "metadata": {
        "colab": {
          "base_uri": "https://localhost:8080/",
          "height": 470
        },
        "id": "KwGaEVcZeXO_",
        "outputId": "7417edf2-c229-49d7-e0cb-b6072b6eff04"
      },
      "execution_count": 16,
      "outputs": [
        {
          "output_type": "execute_result",
          "data": {
            "text/plain": [
              "Text(0.5, 1.0, 'produccion diaria de la fabrica 1')"
            ]
          },
          "metadata": {},
          "execution_count": 16
        },
        {
          "output_type": "display_data",
          "data": {
            "text/plain": [
              "<Figure size 640x480 with 1 Axes>"
            ],
            "image/png": "[encoded data removed]"
          },
          "metadata": {}
        }
      ]
    },
    {
      "cell_type": "code",
      "source": [
        "plt.hist(fabrica2)\n",
        "plt.title(\"produccion diaria de la fabrica 2\")"
      ],
      "metadata": {
        "colab": {
          "base_uri": "https://localhost:8080/",
          "height": 470
        },
        "id": "bEG3hxVWdOS2",
        "outputId": "04b8dc61-156b-4180-97e0-266c88b7ec3b"
      },
      "execution_count": 17,
      "outputs": [
        {
          "output_type": "execute_result",
          "data": {
            "text/plain": [
              "Text(0.5, 1.0, 'produccion diaria de la fabrica 2')"
            ]
          },
          "metadata": {},
          "execution_count": 17
        },
        {
          "output_type": "display_data",
          "data": {
            "text/plain": [
              "<Figure size 640x480 with 1 Axes>"
            ],
            "image/png": "[encoded data removed]"
          },
          "metadata": {}
        }
      ]
    },
    {
      "cell_type": "code",
      "source": [
        "media1=mean(fabrica1)\n",
        "mediana1=median(fabrica1)\n",
        "moda1=mode(fabrica1)\n",
        "print(\"Valores de la fabrica 1\")\n",
        "print(\"Media:\", media1)\n",
        "print(\"Mediana:\", mediana1)\n",
        "print(\"Moda:\", moda1)"
      ],
      "metadata": {
        "colab": {
          "base_uri": "https://localhost:8080/"
        },
        "id": "XEiEiB7Pek_c",
        "outputId": "f90cf83a-f564-4ae1-ff8b-0ebd29bf6a9e"
      },
      "execution_count": 18,
      "outputs": [
        {
          "output_type": "stream",
          "name": "stdout",
          "text": [
            "Valores de la fabrica 1\n",
            "Media: 72.4982\n",
            "Mediana: 72.99000000000001\n",
            "Moda: 94.95\n"
          ]
        }
      ]
    },
    {
      "cell_type": "code",
      "source": [
        "media2=mean(fabrica2)\n",
        "mediana2=median(fabrica2)\n",
        "moda2=mode(fabrica2)\n",
        "print(\"Valores de la fabrica 2\")\n",
        "print(\"Media:\", media2)\n",
        "print(\"Mediana:\", mediana2)\n",
        "print(\"Moda:\", moda2)\n"
      ],
      "metadata": {
        "colab": {
          "base_uri": "https://localhost:8080/"
        },
        "id": "ZodyYyjYgBy2",
        "outputId": "76c946a7-b66f-4e3b-8483-1aaaa371d07e"
      },
      "execution_count": 20,
      "outputs": [
        {
          "output_type": "stream",
          "name": "stdout",
          "text": [
            "Valores de la fabrica 2\n",
            "Media: 75.1843\n",
            "Mediana: 76.06\n",
            "Moda: 84.95\n"
          ]
        }
      ]
    },
    {
      "cell_type": "code",
      "source": [
        "#genera 2 subplot de 1 renglon por 2 columnas para desplegar los 2 histogramas,\n",
        "#una al lado de la otra\n",
        "fig, (ax1, ax2) = plt.subplots(nrows=1, ncols=2, figsize=(10,5))\n",
        "ax1.hist(fabrica1)\n",
        "ax1.set_title(\"Fabrica 1\")\n",
        "ax2.hist(fabrica2)\n",
        "ax2.set_title(\"Fabrica 2\")\n",
        "plt.show()"
      ],
      "metadata": {
        "colab": {
          "base_uri": "https://localhost:8080/",
          "height": 468
        },
        "id": "NZRCF6qJgGVE",
        "outputId": "73431333-df44-4108-e92a-18d95e328380"
      },
      "execution_count": 21,
      "outputs": [
        {
          "output_type": "display_data",
          "data": {
            "text/plain": [
              "<Figure size 1000x500 with 2 Axes>"
            ],
            "image/png": "[encoded data removed]"
          },
          "metadata": {}
        }
      ]
    },
    {
      "cell_type": "code",
      "source": [
        "plt.hist(fabrica1, bins=10, alpha=0.2, color='b', edgecolor=\"Black\")\n",
        "plt.axvline(media1, color='b', linestyle='dashed', linewidth=2, label=\"Media\")\n",
        "plt.axvline(mediana1, color='r', linestyle='dashed', linewidth=2, label=\"Mediana\")\n",
        "plt.axvline(moda1, color='y', linestyle='dashed', linewidth=2, label=\"Moda\")\n",
        "plt.xlabel(\"Valor\")\n",
        "plt.ylabel(\"Frecuencia\")\n",
        "plt.title(\"Produccion diaria de la fabrica 1\")\n",
        "plt.legend()\n",
        "plt.show()"
      ],
      "metadata": {
        "colab": {
          "base_uri": "https://localhost:8080/",
          "height": 472
        },
        "id": "aUrmba0ShzaW",
        "outputId": "a61985eb-d426-43f8-fa05-a3833c0dc0c9"
      },
      "execution_count": 24,
      "outputs": [
        {
          "output_type": "display_data",
          "data": {
            "text/plain": [
              "<Figure size 640x480 with 1 Axes>"
            ],
            "image/png": "[encoded data removed]"
          },
          "metadata": {}
        }
      ]
    },
    {
      "cell_type": "code",
      "source": [
        "plt.hist(fabrica2, bins=10, alpha=0.2, color='b', edgecolor=\"Black\")\n",
        "plt.axvline(media2, color='b', linestyle='dashed', linewidth=2, label=\"Media\")\n",
        "plt.axvline(mediana2, color='r', linestyle='dashed', linewidth=2, label=\"Mediana\")\n",
        "plt.axvline(moda2, color='y', linestyle='dashed', linewidth=2, label=\"Moda\")\n",
        "plt.xlabel(\"Valor\")\n",
        "plt.ylabel(\"Frecuencia\")\n",
        "plt.title(\"Produccion diaria de la fabrica 2\")\n",
        "plt.legend()\n",
        "plt.show()"
      ],
      "metadata": {
        "colab": {
          "base_uri": "https://localhost:8080/",
          "height": 472
        },
        "id": "8Q8gA61bkDIC",
        "outputId": "4baaf6b2-f5eb-4dfe-f616-864edf2f6245"
      },
      "execution_count": 25,
      "outputs": [
        {
          "output_type": "display_data",
          "data": {
            "text/plain": [
              "<Figure size 640x480 with 1 Axes>"
            ],
            "image/png": "[encoded data removed]"
          },
          "metadata": {}
        }
      ]
    },
    {
      "cell_type": "markdown",
      "source": [],
      "metadata": {
        "id": "Z9nkJv0onwnZ"
      }
    }
  ]
}